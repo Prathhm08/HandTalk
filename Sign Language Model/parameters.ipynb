{
  "cells": [
    {
      "cell_type": "code",
      "execution_count": 1,
      "id": "1cd58ad9",
      "metadata": {},
      "outputs": [],
      "source": [
        "import mediapipe as mp\n",
        "import numpy as np\n",
        "import cv2\n",
        "import os"
      ]
    },
    {
      "cell_type": "code",
      "execution_count": 2,
      "id": "aa4a700a",
      "metadata": {},
      "outputs": [],
      "source": [
        "text_background = (198, 63, 88)  # PURPLE\n",
        "corner_color = (53, 53, 249)     # RED\n",
        "text_color = (239, 239, 239)     # WHITE\n",
        "border_color = (61, 147, 8)      # GREEN"
      ]
    },
    {
      "cell_type": "code",
      "execution_count": 3,
      "id": "58f7ef11",
      "metadata": {},
      "outputs": [],
      "source": [
        "DATA_PATH = os.path.join(\"Data\")\n",
        "\n",
        "# You, Busy\n",
        "actions = np.array([\"Yes\", \"WhatAreYouDoing\", \"TryBeing\", \"ToMeet\", \"ThankYou\", \"TakeCare\", \"SameAsYou\", \"Question\", \"Point\", \"Nothing\", \"IHear\", \"HowAreYou\", \"Hello\", \"Good\", \"Bye\", \"_BLANK_\"])\n",
        "\n",
        "no_sequences = 40\n",
        "sequence_length = 30"
      ]
    },
    {
      "cell_type": "code",
      "execution_count": 4,
      "id": "a20eaab0",
      "metadata": {},
      "outputs": [
        {
          "data": {
            "text/plain": [
              "16"
            ]
          },
          "execution_count": 4,
          "metadata": {},
          "output_type": "execute_result"
        }
      ],
      "source": [
        "len(actions)\n",
        "actions.shape[0]"
      ]
    },
    {
      "cell_type": "code",
      "execution_count": 5,
      "id": "c0338753",
      "metadata": {},
      "outputs": [],
      "source": [
        "for action in actions:\n",
        "    for sequence in range(no_sequences):\n",
        "        try:\n",
        "            os.makedirs(os.path.join(DATA_PATH, action, str(sequence)))\n",
        "        except:\n",
        "            pass"
      ]
    },
    {
      "cell_type": "code",
      "execution_count": 6,
      "id": "8f21738a",
      "metadata": {},
      "outputs": [],
      "source": [
        "mp_drawing_styles = mp.solutions.drawing_styles\n",
        "mp_drawing = mp.solutions.drawing_utils\n",
        "mp_hands = mp.solutions.hands\n",
        "hands = mp_hands.Hands(max_num_hands=1)\n",
        "\n",
        "def mediapipe_detections(frame, model):\n",
        "    frame = cv2.cvtColor(frame, cv2.COLOR_BGR2RGB)\n",
        "    frame.flags.writeable = False\n",
        "    results = model.process(frame)\n",
        "    frame.flags.writeable = True\n",
        "    frame = cv2.cvtColor(frame, cv2.COLOR_RGB2BGR)\n",
        "\n",
        "    return frame, results\n",
        "\n",
        "\n",
        "def draw_landmarks(frame, results, color):\n",
        "    if results.multi_hand_landmarks:\n",
        "        for hand_landmarks in results.multi_hand_landmarks:\n",
        "            mp_drawing.draw_landmarks(frame, hand_landmarks, mp_hands.HAND_CONNECTIONS)\n",
        "\n",
        "\n",
        "def extract_keypoints(results):\n",
        "    hand_landmarks = np.zeros(63)\n",
        "    \n",
        "    if results.multi_hand_landmarks:\n",
        "        hand_landmarks = np.array(\n",
        "            [\n",
        "                [landmark.x, landmark.y, landmark.z]\n",
        "                for landmark in results.multi_hand_landmarks[0].landmark\n",
        "            ]\n",
        "        ).flatten()\n",
        "\n",
        "    return hand_landmarks"
      ]
    },
    {
      "cell_type": "code",
      "execution_count": 12,
      "id": "125ba10d",
      "metadata": {},
      "outputs": [],
      "source": [
        "stream_url = \"http://192.168.40.200:81/stream\"\n",
        "cap = cv2.VideoCapture(0)\n",
        "\n",
        "no_frames_counter = 0\n",
        "no_sequences_counter = 0\n",
        "index = 6\n",
        "current_action = actions[index]\n",
        "\n",
        "while True:\n",
        "    _, image = cap.read()\n",
        "    \n",
        "    image, results = mediapipe_detections(image, hands)\n",
        "    draw_landmarks(image, results, corner_color)\n",
        "    right_hand = extract_keypoints(results)\n",
        "    \n",
        "    key = cv2.waitKey(1) & 0xFF\n",
        "    \n",
        "    if key == ord(\"s\"):\n",
        "        npy_path = os.path.join(DATA_PATH, current_action, str(no_sequences_counter), f\"{no_frames_counter}.npy\")\n",
        "        np.save(npy_path, right_hand)\n",
        "        no_frames_counter += 1\n",
        "        if no_frames_counter == sequence_length:\n",
        "            no_frames_counter = 0\n",
        "            no_sequences_counter += 1\n",
        "            if no_sequences_counter == no_sequences:\n",
        "                break\n",
        "    \n",
        "    cv2.putText(image, f\"Collecting Frames for '{current_action}'\", (15, 30), cv2.FONT_HERSHEY_SIMPLEX, 0.75, (255, 0, 0), 2, cv2.LINE_AA)\n",
        "    cv2.putText(image, f\"Video Num: {no_sequences_counter}\", (15, 70), cv2.FONT_HERSHEY_SIMPLEX, 0.75, (0, 255, 0), 2, cv2.LINE_AA)\n",
        "    cv2.putText(image, f\"Frame Num: {no_frames_counter}\", (15, 110), cv2.FONT_HERSHEY_SIMPLEX, 0.75, (0, 0, 255), 2, cv2.LINE_AA)\n",
        "    cv2.imshow(\"Image\", image)\n",
        "    \n",
        "    if key == ord(\"n\"):\n",
        "        cv2.imwrite(f\"{current_action}-image-{no_frames_counter}-{no_sequences_counter}.jpg\", image)\n",
        "    \n",
        "    if key == ord(\"q\"):\n",
        "        break\n",
        "    \n",
        "cap.release()\n",
        "cv2.destroyAllWindows()\n"
      ]
    }
  ],
  "metadata": {
    "kernelspec": {
      "display_name": ".venv",
      "language": "python",
      "name": "python3"
    },
    "language_info": {
      "codemirror_mode": {
        "name": "ipython",
        "version": 3
      },
      "file_extension": ".py",
      "mimetype": "text/x-python",
      "name": "python",
      "nbconvert_exporter": "python",
      "pygments_lexer": "ipython3",
      "version": "3.10.11"
    }
  },
  "nbformat": 4,
  "nbformat_minor": 5
}
